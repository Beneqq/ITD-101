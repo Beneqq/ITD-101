{
 "cells": [
  {
   "cell_type": "code",
   "execution_count": 45,
   "id": "66d60190-397e-4feb-83e9-0f6464ee81a7",
   "metadata": {},
   "outputs": [],
   "source": [
    "import pandas as pd\n",
    "import seaborn as sns\n",
    "import numpy as np\n",
    "import matplotlib.pyplot as plt\n",
    "import folium\n",
    "from folium.plugins import HeatMap\n",
    "import warnings\n",
    "warnings.filterwarnings('ignore')"
   ]
  },
  {
   "cell_type": "code",
   "execution_count": 46,
   "id": "c669ad23-830f-44ad-8a21-c78f5d346e6e",
   "metadata": {},
   "outputs": [],
   "source": [
    "df = pd.read_csv('datasets\\\\Chicago_Crimes.csv', encoding='ISO-8859-1')"
   ]
  },
  {
   "cell_type": "code",
   "execution_count": 47,
   "id": "397d65cf-7149-47d1-9eef-cd5c2599528a",
   "metadata": {},
   "outputs": [
    {
     "data": {
      "text/plain": [
       "Primary Type\n",
       "THEFT                                59201\n",
       "BATTERY                              44579\n",
       "CRIMINAL DAMAGE                      27094\n",
       "ASSAULT                              22615\n",
       "MOTOR VEHICLE THEFT                  19604\n",
       "OTHER OFFENSE                        16781\n",
       "DECEPTIVE PRACTICE                   14991\n",
       "BURGLARY                              8443\n",
       "ROBBERY                               8200\n",
       "WEAPONS VIOLATION                     7164\n",
       "NARCOTICS                             6627\n",
       "CRIMINAL TRESPASS                     5045\n",
       "OFFENSE INVOLVING CHILDREN            1597\n",
       "CRIMINAL SEXUAL ASSAULT               1573\n",
       "SEX OFFENSE                           1210\n",
       "PUBLIC PEACE VIOLATION                1006\n",
       "INTERFERENCE WITH PUBLIC OFFICER       771\n",
       "HOMICIDE                               553\n",
       "STALKING                               520\n",
       "ARSON                                  452\n",
       "PROSTITUTION                           287\n",
       "CONCEALED CARRY LICENSE VIOLATION      249\n",
       "LIQUOR LAW VIOLATION                   192\n",
       "INTIMIDATION                           145\n",
       "KIDNAPPING                             105\n",
       "OBSCENITY                               53\n",
       "HUMAN TRAFFICKING                       24\n",
       "GAMBLING                                18\n",
       "PUBLIC INDECENCY                        13\n",
       "OTHER NARCOTIC VIOLATION                 7\n",
       "NON-CRIMINAL                             4\n",
       "Name: count, dtype: int64"
      ]
     },
     "execution_count": 47,
     "metadata": {},
     "output_type": "execute_result"
    }
   ],
   "source": [
    "df['Primary Type'].value_counts()"
   ]
  },
  {
   "cell_type": "markdown",
   "id": "9f52f42c-c009-4346-8401-82c5dc6afbe8",
   "metadata": {},
   "source": [
    "<h1>Theft</h1>\n",
    "<hr>"
   ]
  },
  {
   "cell_type": "code",
   "execution_count": 62,
   "id": "e575b9b7-e275-4946-ba38-e0a875b74819",
   "metadata": {},
   "outputs": [],
   "source": [
    "theft = df[(df[\"Primary Type\"] == \"THEFT\") & (df[\"Year\"] == 2025)]\n",
    "final_theft = theft.groupby([\"Latitude\", \"Longitude\"]).size().reset_index(name = 'Beat')\n",
    "\n",
    "theft_map = final_theft[['Latitude', 'Longitude', 'Beat']].values.tolist()\n",
    "my_map = folium.Map(location= [41, -87], zoom_start = 8)\n",
    "HeatMap(theft_map).add_to(my_map)\n",
    "my_map.save('theft.html')"
   ]
  },
  {
   "cell_type": "markdown",
   "id": "c664c0a5-b01c-4882-ac96-4a725ec19b6e",
   "metadata": {},
   "source": [
    "<h1>Battery</h1>\n",
    "<hr>"
   ]
  },
  {
   "cell_type": "code",
   "execution_count": 63,
   "id": "28798b07-e28a-4e8b-a61b-7dc45ba35292",
   "metadata": {},
   "outputs": [],
   "source": [
    "battery = df[(df[\"Primary Type\"] == \"BATTERY\") & (df[\"Year\"] == 2025)]\n",
    "final_bat = battery.groupby([\"Latitude\", \"Longitude\"]).size().reset_index(name = 'Beat')\n",
    "\n",
    "battery_map = final_bat[['Latitude', 'Longitude', 'Beat']].values.tolist()\n",
    "my_map1 = folium.Map(location= [41, -87], zoom_start = 8)\n",
    "HeatMap(battery_map).add_to(my_map1)\n",
    "my_map1.save('battery.html')"
   ]
  },
  {
   "cell_type": "markdown",
   "id": "b48317a1-6887-4157-be8f-767711635bca",
   "metadata": {},
   "source": [
    "<h1>Criminal Damage</h1>\n",
    "<hr>"
   ]
  },
  {
   "cell_type": "code",
   "execution_count": 56,
   "id": "ac5ba1d8-c406-4541-9fe0-68739425a605",
   "metadata": {},
   "outputs": [],
   "source": [
    "crim_dam = df[(df[\"Primary Type\"] == \"CRIMINAL DAMAGE\") & (df[\"Year\"] == 2025)]\n",
    "final_crim_dam = crim_dam.groupby([\"Latitude\", \"Longitude\"]).size().reset_index(name = 'Beat')\n",
    "\n",
    "crim_dam_map = final_crim_dam[['Latitude', 'Longitude', 'Beat']].values.tolist()\n",
    "my_map2 = folium.Map(location= [41, -87], zoom_start = 8)\n",
    "HeatMap(crim_dam_map).add_to(my_map2)\n",
    "my_map2.save('crim_dam.html')"
   ]
  },
  {
   "cell_type": "markdown",
   "id": "b667f281-d498-49d4-a167-065ce32aa03b",
   "metadata": {},
   "source": [
    "<h1>Assault</h1>\n",
    "<hr>"
   ]
  },
  {
   "cell_type": "code",
   "execution_count": 58,
   "id": "f6d2c5cd-fa4b-4bae-a502-233638233553",
   "metadata": {},
   "outputs": [],
   "source": [
    "assault = df[(df[\"Primary Type\"] == \"ASSAULT\") & (df[\"Year\"] == 2025)]\n",
    "final_assault = assault.groupby([\"Latitude\", \"Longitude\"]).size().reset_index(name = 'Beat')\n",
    "\n",
    "assault_map = final_assault[['Latitude', 'Longitude', 'Beat']].values.tolist()\n",
    "my_map3 = folium.Map(location= [41, -87], zoom_start = 8)\n",
    "HeatMap(assault_map).add_to(my_map3)\n",
    "my_map3.save('assault.html')"
   ]
  },
  {
   "cell_type": "markdown",
   "id": "ba618429-817f-43b6-9a72-be159d572b1a",
   "metadata": {},
   "source": [
    "<h1>Motor Vehicle Theft</h1>\n",
    "<hr>"
   ]
  },
  {
   "cell_type": "code",
   "execution_count": 59,
   "id": "21eb9d7f-2b7f-4087-b15e-33dc07d0a4bc",
   "metadata": {},
   "outputs": [],
   "source": [
    "mv_theft = df[(df[\"Primary Type\"] == \"MOTOR VEHICLE THEFT\") & (df[\"Year\"] == 2025)]\n",
    "final_mv_theft = mv_theft.groupby([\"Latitude\", \"Longitude\"]).size().reset_index(name = 'Beat')\n",
    "\n",
    "mv_theft_map = final_mv_theft[['Latitude', 'Longitude', 'Beat']].values.tolist()\n",
    "my_map4 = folium.Map(location= [41, -87], zoom_start = 8)\n",
    "HeatMap(mv_theft_map).add_to(my_map4)\n",
    "my_map4.save('mv_theft.html')"
   ]
  },
  {
   "cell_type": "markdown",
   "id": "cbeada18-4382-4657-a7d6-03334c578ed8",
   "metadata": {},
   "source": [
    "<h1>Other Offense</h1>\n",
    "<hr>"
   ]
  },
  {
   "cell_type": "code",
   "execution_count": 76,
   "id": "fee0bd98-6109-4705-b397-348da4c2c069",
   "metadata": {},
   "outputs": [],
   "source": [
    "other_of = df[(df[\"Primary Type\"] == \"OTHER OFFENSE\") & (df[\"Year\"] == 2025)]\n",
    "final_other_of = other_of.groupby([\"Latitude\", \"Longitude\"]).size().reset_index(name = 'Beat')\n",
    "\n",
    "other_of_map = final_other_of[['Latitude', 'Longitude', 'Beat']].values.tolist()\n",
    "my_map5 = folium.Map(location= [41, -87], zoom_start = 8)\n",
    "HeatMap(other_of_map).add_to(my_map5)\n",
    "my_map5.save('other_of.html')"
   ]
  },
  {
   "cell_type": "markdown",
   "id": "99ef0169-f3e7-43d5-940c-012aba0caff8",
   "metadata": {},
   "source": [
    "<h1>Deceptive Practice</h1>\n",
    "<hr>"
   ]
  },
  {
   "cell_type": "code",
   "execution_count": 77,
   "id": "9b2c1107-1d41-4557-9cb0-2bc4278c6335",
   "metadata": {},
   "outputs": [],
   "source": [
    "dec_prac = df[(df[\"Primary Type\"] == \"DECEPTIVE PRACTICE\") & (df[\"Year\"] == 2025)]\n",
    "final_dec_prac = dec_prac.groupby([\"Latitude\", \"Longitude\"]).size().reset_index(name = 'Beat')\n",
    "\n",
    "dec_prac_map = final_dec_prac[['Latitude', 'Longitude', 'Beat']].values.tolist()\n",
    "my_map6 = folium.Map(location= [41, -87], zoom_start = 8)\n",
    "HeatMap(dec_prac_map).add_to(my_map6)\n",
    "my_map6.save('dec_prac.html')"
   ]
  },
  {
   "cell_type": "markdown",
   "id": "a9e5ad05-7793-44f4-b5fc-818080974371",
   "metadata": {},
   "source": [
    "<h1>Burglary</h1>\n",
    "<hr>"
   ]
  },
  {
   "cell_type": "code",
   "execution_count": 78,
   "id": "8b4b58ae-02f7-49ca-a338-00ba82541bf7",
   "metadata": {},
   "outputs": [],
   "source": [
    "burglary = df[(df[\"Primary Type\"] == \"BURGLARY\") & (df[\"Year\"] == 2025)]\n",
    "final_burglary = burglary.groupby([\"Latitude\", \"Longitude\"]).size().reset_index(name = 'Beat')\n",
    "\n",
    "burglary_map = final_burglary[['Latitude', 'Longitude', 'Beat']].values.tolist()\n",
    "my_map7 = folium.Map(location= [41, -87], zoom_start = 8)\n",
    "HeatMap(burglary_map).add_to(my_map7)\n",
    "my_map7.save('burglary.html')"
   ]
  },
  {
   "cell_type": "markdown",
   "id": "a2156974-d346-4897-8aff-0663dc0ce108",
   "metadata": {},
   "source": [
    "<h1>Robbery</h1>\n",
    "<hr>"
   ]
  },
  {
   "cell_type": "code",
   "execution_count": 79,
   "id": "8950ff13-e9bb-4ef7-aaf0-c315c5f4da0b",
   "metadata": {},
   "outputs": [],
   "source": [
    "robbery = df[(df[\"Primary Type\"] == \"ROBBERY\") & (df[\"Year\"] == 2025)]\n",
    "final_robbery = robbery.groupby([\"Latitude\", \"Longitude\"]).size().reset_index(name = 'Beat')\n",
    "\n",
    "robbery_map = final_robbery[['Latitude', 'Longitude', 'Beat']].values.tolist()\n",
    "my_map8 = folium.Map(location= [41, -87], zoom_start = 8)\n",
    "HeatMap(robbery_map).add_to(my_map8)\n",
    "my_map8.save('robbery.html')"
   ]
  },
  {
   "cell_type": "markdown",
   "id": "bae3a5f0-3020-4f43-9ddc-a4918a00d6c7",
   "metadata": {},
   "source": [
    "<h1>Weapons Violation</h1>\n",
    "<hr>"
   ]
  },
  {
   "cell_type": "code",
   "execution_count": 80,
   "id": "4ed19612-caaf-4312-af0c-96a4f93e4511",
   "metadata": {},
   "outputs": [],
   "source": [
    "weapons = df[(df[\"Primary Type\"] == \"WEAPONS VIOLATION\") & (df[\"Year\"] == 2025)]\n",
    "final_weapons = weapons.groupby([\"Latitude\", \"Longitude\"]).size().reset_index(name = 'Beat')\n",
    "\n",
    "weapons_map = final_weapons[['Latitude', 'Longitude', 'Beat']].values.tolist()\n",
    "my_map9 = folium.Map(location = [41, -87], zoom_start = 8)\n",
    "HeatMap(weapons_map).add_to(my_map9)\n",
    "my_map9.save('weapons.html')"
   ]
  },
  {
   "cell_type": "markdown",
   "id": "dcda02a7-1751-43ee-babe-e0a88fdc39c7",
   "metadata": {},
   "source": [
    "<h1>Narcotics</h1>\n",
    "<hr>"
   ]
  },
  {
   "cell_type": "code",
   "execution_count": 81,
   "id": "285ac51b-abf0-43fb-aef3-7b880a76d350",
   "metadata": {},
   "outputs": [],
   "source": [
    "narcotics = df[(df[\"Primary Type\"] == \"NARCOTICS\") & (df[\"Year\"] == 2025)]\n",
    "final_narcotics = narcotics.groupby([\"Latitude\", \"Longitude\"]).size().reset_index(name = 'Beat')\n",
    "\n",
    "narcotics_map = final_narcotics[['Latitude', 'Longitude', 'Beat']].values.tolist()\n",
    "my_map10 = folium.Map(location = [41, -87], zoom_start = 8)\n",
    "HeatMap(narcotics_map).add_to(my_map10)\n",
    "my_map10.save('narcotics.html')"
   ]
  },
  {
   "cell_type": "markdown",
   "id": "6a301da6-6426-4bec-b17a-2e1c9614a53f",
   "metadata": {},
   "source": [
    "<h1>Criminal Trespass</h1>\n",
    "<hr>"
   ]
  },
  {
   "cell_type": "code",
   "execution_count": 82,
   "id": "1ebb1331-c6a5-400d-89c8-299aabd6dc68",
   "metadata": {},
   "outputs": [],
   "source": [
    "crim_tres = df[(df[\"Primary Type\"] == \"CRIMINAL TRESPASS\") & (df[\"Year\"] == 2025)]\n",
    "final_crim_tres =crim_tres.groupby([\"Latitude\", \"Longitude\"]).size().reset_index(name = 'Beat')\n",
    "\n",
    "crim_tres_map = final_crim_tres[['Latitude', 'Longitude', 'Beat']].values.tolist()\n",
    "my_map11 = folium.Map(location = [41, -87], zoom_start = 8)\n",
    "HeatMap(crim_tres_map).add_to(my_map11)\n",
    "my_map11.save('crim_tres.html')"
   ]
  },
  {
   "cell_type": "markdown",
   "id": "7f383e35-717f-45c5-a527-4761b86f7e4b",
   "metadata": {},
   "source": [
    "<h1>Offense Involving Children</h1>\n",
    "<hr>"
   ]
  },
  {
   "cell_type": "code",
   "execution_count": 83,
   "id": "eb023d8d-341d-421a-af70-46de30f85269",
   "metadata": {},
   "outputs": [],
   "source": [
    "oic = df[(df[\"Primary Type\"] == \"OFFENSE INVOLVING CHILDREN\") & (df[\"Year\"] == 2025)]\n",
    "final_oic = oic.groupby([\"Latitude\", \"Longitude\"]).size().reset_index(name = 'Beat')\n",
    "\n",
    "oic_map = final_oic[['Latitude', 'Longitude', 'Beat']].values.tolist()\n",
    "my_map12 = folium.Map(location = [41, -87], zoom_start = 8)\n",
    "HeatMap(oic_map).add_to(my_map12)\n",
    "my_map12.save('oic.html')"
   ]
  },
  {
   "cell_type": "markdown",
   "id": "0f342bce-8b90-4a7f-b005-6625aa6fa6cd",
   "metadata": {},
   "source": [
    "<h1>Criminal Sexual Assault</h1>\n",
    "<hr>"
   ]
  },
  {
   "cell_type": "code",
   "execution_count": 84,
   "id": "c1a32f39-272c-4b61-8b2e-717dade1cbc9",
   "metadata": {},
   "outputs": [],
   "source": [
    "csa = df[(df[\"Primary Type\"] == \"CRIMINAL SEXUAL ASSAULT\") & (df[\"Year\"] == 2025)]\n",
    "final_csa = csa.groupby([\"Latitude\", \"Longitude\"]).size().reset_index(name = 'Beat')\n",
    "\n",
    "csa_map = final_csa[['Latitude', 'Longitude', 'Beat']].values.tolist()\n",
    "my_map13 = folium.Map(location = [41, -87], zoom_start = 8)\n",
    "HeatMap(csa_map).add_to(my_map13)\n",
    "my_map13.save('csa.html')"
   ]
  },
  {
   "cell_type": "markdown",
   "id": "d21e8353-4920-4008-9e55-7e498d263530",
   "metadata": {},
   "source": [
    "<h1>Sex Offense</h1>\n",
    "<hr>"
   ]
  },
  {
   "cell_type": "code",
   "execution_count": 85,
   "id": "80b379f9-9634-4a4f-85d4-1547500516ae",
   "metadata": {},
   "outputs": [],
   "source": [
    "sex_of = df[(df[\"Primary Type\"] == \"SEX OFFENSE\") & (df[\"Year\"] == 2025)]\n",
    "final_sex_of = sex_of.groupby([\"Latitude\", \"Longitude\"]).size().reset_index(name = 'Beat')\n",
    "\n",
    "sex_of_map = final_sex_of[['Latitude', 'Longitude', 'Beat']].values.tolist()\n",
    "my_map14 = folium.Map(location = [41, -87], zoom_start = 8)\n",
    "HeatMap(sex_of_map).add_to(my_map14)\n",
    "my_map14.save('sex_of.html')"
   ]
  },
  {
   "cell_type": "markdown",
   "id": "aec6a5c8-5981-4498-8ae7-b68395df836f",
   "metadata": {},
   "source": [
    "<h1>Public Peace Violation</h1>\n",
    "<hr>"
   ]
  },
  {
   "cell_type": "code",
   "execution_count": 86,
   "id": "fc8d9681-c0d3-414e-ba04-dd12a63973f5",
   "metadata": {},
   "outputs": [],
   "source": [
    "ppv = df[(df[\"Primary Type\"] == \"PUBLIC PEACE VIOLATION\") & (df[\"Year\"] == 2025)]\n",
    "final_ppv = ppv.groupby([\"Latitude\", \"Longitude\"]).size().reset_index(name = 'Beat')\n",
    "\n",
    "ppv_map = final_ppv[['Latitude', 'Longitude', 'Beat']].values.tolist()\n",
    "my_map15 = folium.Map(location = [41, -87], zoom_start = 8)\n",
    "HeatMap(ppv_map).add_to(my_map15)\n",
    "my_map15.save('ppv.html')"
   ]
  },
  {
   "cell_type": "markdown",
   "id": "795c17e9-7578-4d72-b9e4-049b14ed30ab",
   "metadata": {},
   "source": [
    "<h1>Interference With Public Officer</h1>\n",
    "<hr>"
   ]
  },
  {
   "cell_type": "code",
   "execution_count": 87,
   "id": "6a10a247-0aa3-43db-9a07-750ffb7bc4ca",
   "metadata": {},
   "outputs": [],
   "source": [
    "iwpo = df[(df[\"Primary Type\"] == \"INTERFERENCE WITH PUBLIC OFFICER\") & (df[\"Year\"] == 2025)]\n",
    "final_iwpo = iwpo.groupby([\"Latitude\", \"Longitude\"]).size().reset_index(name = 'Beat')\n",
    "\n",
    "iwpo_map = final_iwpo[['Latitude', 'Longitude', 'Beat']].values.tolist()\n",
    "my_map16 = folium.Map(location = [41, -87], zoom_start = 8)\n",
    "HeatMap(iwpo_map).add_to(my_map16)\n",
    "my_map16.save('iwpo.html')"
   ]
  },
  {
   "cell_type": "markdown",
   "id": "bf789b35-4dc8-476d-89d0-6a7fe77572e4",
   "metadata": {},
   "source": [
    "<h1>Homicide</h1>\n",
    "<hr>"
   ]
  },
  {
   "cell_type": "code",
   "execution_count": 88,
   "id": "10ab312d-3ad5-4199-b4a2-65673750fd01",
   "metadata": {},
   "outputs": [],
   "source": [
    "homicide = df[(df[\"Primary Type\"] == \"HOMICIDE\") & (df[\"Year\"] == 2025)]\n",
    "final_homicide = homicide.groupby([\"Latitude\", \"Longitude\"]).size().reset_index(name = 'Beat')\n",
    "\n",
    "homicide_map = final_homicide[['Latitude', 'Longitude', 'Beat']].values.tolist()\n",
    "my_map17 = folium.Map(location = [41, -87], zoom_start = 8)\n",
    "HeatMap(homicide_map).add_to(my_map17)\n",
    "my_map17.save('homicide.html')"
   ]
  },
  {
   "cell_type": "markdown",
   "id": "8bb1bfea-6bc9-44f2-b5fb-822b3fe07895",
   "metadata": {},
   "source": [
    "<h1>Stalking</h1>\n",
    "<hr>"
   ]
  },
  {
   "cell_type": "code",
   "execution_count": 89,
   "id": "b82733ea-da48-4c9c-b52b-e864bacff2cb",
   "metadata": {},
   "outputs": [],
   "source": [
    "stalk = df[(df[\"Primary Type\"] == \"Stalking\") & (df[\"Year\"] == 2025)]\n",
    "final_stalk = stalk.groupby([\"Latitude\", \"Longitude\"]).size().reset_index(name = 'Beat')\n",
    "\n",
    "stalk_map = final_stalk[['Latitude', 'Longitude', 'Beat']].values.tolist()\n",
    "my_map18 = folium.Map(location = [41, -87], zoom_start = 8)\n",
    "HeatMap(stalk_map).add_to(my_map18)\n",
    "my_map18.save('stalking.html')"
   ]
  },
  {
   "cell_type": "markdown",
   "id": "6d1d6df1-8878-424d-92ca-828773331be6",
   "metadata": {},
   "source": [
    "<h1>Arson</h1>\n",
    "<hr>"
   ]
  },
  {
   "cell_type": "code",
   "execution_count": 90,
   "id": "7fca0de1-9459-4bee-bef2-6ecce8ca5641",
   "metadata": {},
   "outputs": [],
   "source": [
    "arson = df[(df[\"Primary Type\"] == \"ARSON\") & (df[\"Year\"] == 2025)]\n",
    "final_arson = arson.groupby([\"Latitude\", \"Longitude\"]).size().reset_index(name = 'Beat')\n",
    "\n",
    "arson_map = final_arson[['Latitude', 'Longitude', 'Beat']].values.tolist()\n",
    "my_map19 = folium.Map(location = [41, -87], zoom_start = 8)\n",
    "HeatMap(arson_map).add_to(my_map19)\n",
    "my_map19.save('arson.html')"
   ]
  },
  {
   "cell_type": "markdown",
   "id": "aea901af-bf48-4a33-9f34-3c0729beea8b",
   "metadata": {},
   "source": [
    "<h1>Prostitution</h1>\n",
    "<hr>"
   ]
  },
  {
   "cell_type": "code",
   "execution_count": 91,
   "id": "82d9eb58-ca7f-4e9a-8f2b-4670a9c19dbe",
   "metadata": {},
   "outputs": [],
   "source": [
    "pros = df[(df[\"Primary Type\"] == \"PROSTITUTION\") & (df[\"Year\"] == 2025)]\n",
    "final_pros = pros.groupby([\"Latitude\", \"Longitude\"]).size().reset_index(name = 'Beat')\n",
    "\n",
    "pros_map = final_pros[['Latitude', 'Longitude', 'Beat']].values.tolist()\n",
    "my_map20 = folium.Map(location = [41, -87], zoom_start = 8)\n",
    "HeatMap(pros_map).add_to(my_map20)\n",
    "my_map20.save('prostitution.html')"
   ]
  },
  {
   "cell_type": "markdown",
   "id": "8d00f22d-79e5-4be2-b6c5-ea24172bfd86",
   "metadata": {},
   "source": [
    "<h1>Concealed Carry License Violation</h1>\n",
    "<hr>"
   ]
  },
  {
   "cell_type": "code",
   "execution_count": 92,
   "id": "17b04991-82e5-4306-a072-c07c8daf7161",
   "metadata": {},
   "outputs": [],
   "source": [
    "cclv = df[(df[\"Primary Type\"] == \"CONCEALED CARRY LICENSE VIOLATION\") & (df[\"Year\"] == 2025)]\n",
    "final_cclv = cclv.groupby([\"Latitude\", \"Longitude\"]).size().reset_index(name = 'Beat')\n",
    "\n",
    "cclv_map = final_cclv[['Latitude', 'Longitude', 'Beat']].values.tolist()\n",
    "my_map21 = folium.Map(location = [41, -87], zoom_start = 8)\n",
    "HeatMap(cclv_map).add_to(my_map21)\n",
    "my_map21.save('cclv.html')"
   ]
  },
  {
   "cell_type": "markdown",
   "id": "030920e0-df2c-4c86-bd7d-584f70ccad8e",
   "metadata": {},
   "source": [
    "<h1>Liqiuor Law Violation</h1>\n",
    "<hr>"
   ]
  },
  {
   "cell_type": "code",
   "execution_count": 93,
   "id": "4b7256af-a12e-4ca8-8d07-3d93e82543c2",
   "metadata": {},
   "outputs": [],
   "source": [
    "llv = df[(df[\"Primary Type\"] == \"LIQIUOR LAW VIOLATION\") & (df[\"Year\"] == 2025)]\n",
    "final_llv = llv.groupby([\"Latitude\", \"Longitude\"]).size().reset_index(name = 'Beat')\n",
    "\n",
    "llv_map = final_llv[['Latitude', 'Longitude', 'Beat']].values.tolist()\n",
    "my_map22 = folium.Map(location = [41, -87], zoom_start = 8)\n",
    "HeatMap(llv_map).add_to(my_map22)\n",
    "my_map22.save('llv.html')"
   ]
  },
  {
   "cell_type": "markdown",
   "id": "5782ca0e-41f0-43ef-8be4-980610dd18b3",
   "metadata": {},
   "source": [
    "<h1>Intimidation</h1>\n",
    "<hr>"
   ]
  },
  {
   "cell_type": "code",
   "execution_count": 94,
   "id": "312cebbc-4ce6-4af6-bb1c-64c3edb0704a",
   "metadata": {},
   "outputs": [],
   "source": [
    "inti = df[(df[\"Primary Type\"] == \"INTIMIDATION\") & (df[\"Year\"] == 2025)]\n",
    "final_inti = inti.groupby([\"Latitude\", \"Longitude\"]).size().reset_index(name = 'Beat')\n",
    "\n",
    "inti_map = final_inti[['Latitude', 'Longitude', 'Beat']].values.tolist()\n",
    "my_map23 = folium.Map(location = [41, -87], zoom_start = 8)\n",
    "HeatMap(inti_map).add_to(my_map23)\n",
    "my_map23.save('intimidation.html')"
   ]
  },
  {
   "cell_type": "markdown",
   "id": "33565e33-74ee-4eb0-b010-107cb5a82fa6",
   "metadata": {},
   "source": [
    "<h1>Kidnapping</h1>\n",
    "<hr>"
   ]
  },
  {
   "cell_type": "code",
   "execution_count": 95,
   "id": "d9ada553-c518-478b-96a5-81c7a7302b93",
   "metadata": {},
   "outputs": [],
   "source": [
    "kidnap = df[(df[\"Primary Type\"] == \"KIDNAPPING\") & (df[\"Year\"] == 2025)]\n",
    "final_kidnap = kidnap.groupby([\"Latitude\", \"Longitude\"]).size().reset_index(name = 'Beat')\n",
    "\n",
    "kidnap_map = final_kidnap[['Latitude', 'Longitude', 'Beat']].values.tolist()\n",
    "my_map24 = folium.Map(location = [41, -87], zoom_start = 8)\n",
    "HeatMap(kidnap_map).add_to(my_map24)\n",
    "my_map24.save('kidnapping.html')"
   ]
  },
  {
   "cell_type": "markdown",
   "id": "66d8026b-5dc4-407a-9081-6bd18dfe03e4",
   "metadata": {},
   "source": [
    "<h1>Obscenity</h1>\n",
    "<hr>"
   ]
  },
  {
   "cell_type": "code",
   "execution_count": 96,
   "id": "8bafc553-1bf7-44a9-bee3-f84d606125fa",
   "metadata": {},
   "outputs": [],
   "source": [
    "obs = df[(df[\"Primary Type\"] == \"OBSCENITY\") & (df[\"Year\"] == 2025)]\n",
    "final_obs = obs.groupby([\"Latitude\", \"Longitude\"]).size().reset_index(name = 'Beat')\n",
    "\n",
    "obs_map = final_obs[['Latitude', 'Longitude', 'Beat']].values.tolist()\n",
    "my_map25 = folium.Map(location = [41, -87], zoom_start = 8)\n",
    "HeatMap(obs_map).add_to(my_map25)\n",
    "my_map25.save('obscenity.html')"
   ]
  },
  {
   "cell_type": "markdown",
   "id": "6c0d0074-7ce5-4bd7-92f8-ebfdccb68a37",
   "metadata": {},
   "source": [
    "<h1>Human Trafficking</h1>\n",
    "<hr>"
   ]
  },
  {
   "cell_type": "code",
   "execution_count": 97,
   "id": "754e9a61-8fc6-47a1-b2e0-869075f41db4",
   "metadata": {},
   "outputs": [],
   "source": [
    "ht = df[(df[\"Primary Type\"] == \"HUMAN TRAFFICKING\") & (df[\"Year\"] == 2025)]\n",
    "final_ht = ht.groupby([\"Latitude\", \"Longitude\"]).size().reset_index(name = 'Beat')\n",
    "\n",
    "ht_map = final_ht[['Latitude', 'Longitude', 'Beat']].values.tolist()\n",
    "my_map26 = folium.Map(location = [41, -87], zoom_start = 8)\n",
    "HeatMap(ht_map).add_to(my_map26)\n",
    "my_map26.save('human_trafficking.html')"
   ]
  },
  {
   "cell_type": "markdown",
   "id": "a1fd303f-072e-45f0-b30f-f463440580c5",
   "metadata": {},
   "source": [
    "<h1>Gambling</h1>\n",
    "<hr>"
   ]
  },
  {
   "cell_type": "code",
   "execution_count": 98,
   "id": "9209b4dd-5c62-4127-96d1-acf36e6696a4",
   "metadata": {},
   "outputs": [],
   "source": [
    "gamble = df[(df[\"Primary Type\"] == \"GAMBLING\") & (df[\"Year\"] == 2025)]\n",
    "final_gamble = gamble.groupby([\"Latitude\", \"Longitude\"]).size().reset_index(name = 'Beat')\n",
    "\n",
    "gamble_map = final_gamble[['Latitude', 'Longitude', 'Beat']].values.tolist()\n",
    "my_map27 = folium.Map(location = [41, -87], zoom_start = 8)\n",
    "HeatMap(gamble_map).add_to(my_map27)\n",
    "my_map27.save('gambling.html')"
   ]
  },
  {
   "cell_type": "markdown",
   "id": "53b3328e-e0b7-4ed3-86f2-7d2dd5dadf10",
   "metadata": {},
   "source": [
    "<h1>Public Indecency</h1>\n",
    "<hr>"
   ]
  },
  {
   "cell_type": "code",
   "execution_count": 99,
   "id": "aadbe1fc-811d-4cde-885c-2725ac1780f9",
   "metadata": {},
   "outputs": [],
   "source": [
    "pi = df[(df[\"Primary Type\"] == \"PUBLIC INDECENCY\") & (df[\"Year\"] == 2025)]\n",
    "final_pi = pi.groupby([\"Latitude\", \"Longitude\"]).size().reset_index(name = 'Beat')\n",
    "\n",
    "pi_map = final_pi[['Latitude', 'Longitude', 'Beat']].values.tolist()\n",
    "my_map28 = folium.Map(location = [41, -87], zoom_start = 8)\n",
    "HeatMap(pi_map).add_to(my_map28)\n",
    "my_map28.save('Public_Indecency.html')"
   ]
  },
  {
   "cell_type": "markdown",
   "id": "b59893f5-76c2-4b21-a7c2-8feb9e8f2d57",
   "metadata": {},
   "source": [
    "<h1>Other Narcotic Violation</h1>\n",
    "<hr>"
   ]
  },
  {
   "cell_type": "code",
   "execution_count": 101,
   "id": "963434e2-1e77-459d-a825-dc55cc101d77",
   "metadata": {},
   "outputs": [],
   "source": [
    "onv = df[(df[\"Primary Type\"] == \"OTHER NARCOTIC VIOLATION\") & (df[\"Year\"] == 2025)]\n",
    "final_onv = onv.groupby([\"Latitude\", \"Longitude\"]).size().reset_index(name = 'Beat')\n",
    "\n",
    "onv_map = final_onv[['Latitude', 'Longitude', 'Beat']].values.tolist()\n",
    "my_map29 = folium.Map(location = [41, -87], zoom_start = 8)\n",
    "HeatMap(onv_map).add_to(my_map29)\n",
    "my_map29.save('onv.html')"
   ]
  },
  {
   "cell_type": "markdown",
   "id": "7d529ceb-52c7-45fb-a521-65860f51300e",
   "metadata": {},
   "source": [
    "<h1>Non Criminal</h1>\n",
    "<hr>"
   ]
  },
  {
   "cell_type": "code",
   "execution_count": 102,
   "id": "9b06a61a-31a3-4e98-9fb2-f6afa0e2fce2",
   "metadata": {},
   "outputs": [],
   "source": [
    "non_crim = df[(df[\"Primary Type\"] == \"OTHER NARCOTIC VIOLATION\") & (df[\"Year\"] == 2025)]\n",
    "final_non_crim = non_crim.groupby([\"Latitude\", \"Longitude\"]).size().reset_index(name = 'Beat')\n",
    "\n",
    "non_crim_map = final_non_crim[['Latitude', 'Longitude', 'Beat']].values.tolist()\n",
    "my_map30 = folium.Map(location = [41, -87], zoom_start = 8)\n",
    "HeatMap(onv_map).add_to(my_map30)\n",
    "my_map30.save('non_criminal.html')"
   ]
  },
  {
   "cell_type": "code",
   "execution_count": 51,
   "id": "2deb398e-970b-4a27-92ef-278601d4ad61",
   "metadata": {},
   "outputs": [
    {
     "data": {
      "text/plain": [
       "Primary Type\n",
       "THEFT                                59201\n",
       "BATTERY                              44579\n",
       "CRIMINAL DAMAGE                      27094\n",
       "ASSAULT                              22615\n",
       "MOTOR VEHICLE THEFT                  19604\n",
       "OTHER OFFENSE                        16781\n",
       "DECEPTIVE PRACTICE                   14991\n",
       "BURGLARY                              8443\n",
       "ROBBERY                               8200\n",
       "WEAPONS VIOLATION                     7164\n",
       "NARCOTICS                             6627\n",
       "CRIMINAL TRESPASS                     5045\n",
       "OFFENSE INVOLVING CHILDREN            1597\n",
       "CRIMINAL SEXUAL ASSAULT               1573\n",
       "SEX OFFENSE                           1210\n",
       "PUBLIC PEACE VIOLATION                1006\n",
       "INTERFERENCE WITH PUBLIC OFFICER       771\n",
       "HOMICIDE                               553\n",
       "STALKING                               520\n",
       "ARSON                                  452\n",
       "PROSTITUTION                           287\n",
       "CONCEALED CARRY LICENSE VIOLATION      249\n",
       "LIQUOR LAW VIOLATION                   192\n",
       "INTIMIDATION                           145\n",
       "KIDNAPPING                             105\n",
       "OBSCENITY                               53\n",
       "HUMAN TRAFFICKING                       24\n",
       "GAMBLING                                18\n",
       "PUBLIC INDECENCY                        13\n",
       "OTHER NARCOTIC VIOLATION                 7\n",
       "NON-CRIMINAL                             4\n",
       "Name: count, dtype: int64"
      ]
     },
     "execution_count": 51,
     "metadata": {},
     "output_type": "execute_result"
    }
   ],
   "source": [
    "df['Primary Type'].value_counts()"
   ]
  },
  {
   "cell_type": "code",
   "execution_count": null,
   "id": "35b7f9af-b34d-4b50-9dc0-494e94a3c6b9",
   "metadata": {},
   "outputs": [],
   "source": []
  }
 ],
 "metadata": {
  "kernelspec": {
   "display_name": "Python 3 (ipykernel)",
   "language": "python",
   "name": "python3"
  },
  "language_info": {
   "codemirror_mode": {
    "name": "ipython",
    "version": 3
   },
   "file_extension": ".py",
   "mimetype": "text/x-python",
   "name": "python",
   "nbconvert_exporter": "python",
   "pygments_lexer": "ipython3",
   "version": "3.13.3"
  }
 },
 "nbformat": 4,
 "nbformat_minor": 5
}
