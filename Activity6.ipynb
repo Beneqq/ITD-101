{
 "cells": [
  {
   "cell_type": "code",
   "execution_count": 2,
   "id": "3bbba4c2-91db-4a4d-8541-04bbce017e89",
   "metadata": {},
   "outputs": [],
   "source": [
    "import numpy as np\n",
    "import pandas as pd \n",
    "import seaborn as sns \n",
    "import matplotlib.pyplot as plt \n",
    "import folium\n",
    "import warnings \n",
    "warnings.filterwarnings('ignore')"
   ]
  },
  {
   "cell_type": "code",
   "execution_count": 40,
   "id": "89b70c1e-c8be-4f6f-b95a-958a31b2655a",
   "metadata": {},
   "outputs": [],
   "source": [
    "\n",
    "\n",
    "# Load the dataset with the correct encoding\n",
    "df = pd.read_csv('datasets\\\\Global_terrorist.csv', encoding='ISO-8859-1')\n",
    "\n"
   ]
  },
  {
   "cell_type": "code",
   "execution_count": 41,
   "id": "b54d601b-0b95-4902-b301-786fbd02cb3e",
   "metadata": {},
   "outputs": [
    {
     "data": {
      "text/html": [
       "<div>\n",
       "<style scoped>\n",
       "    .dataframe tbody tr th:only-of-type {\n",
       "        vertical-align: middle;\n",
       "    }\n",
       "\n",
       "    .dataframe tbody tr th {\n",
       "        vertical-align: top;\n",
       "    }\n",
       "\n",
       "    .dataframe thead th {\n",
       "        text-align: right;\n",
       "    }\n",
       "</style>\n",
       "<table border=\"1\" class=\"dataframe\">\n",
       "  <thead>\n",
       "    <tr style=\"text-align: right;\">\n",
       "      <th></th>\n",
       "      <th>eventid</th>\n",
       "      <th>iyear</th>\n",
       "      <th>imonth</th>\n",
       "      <th>iday</th>\n",
       "      <th>approxdate</th>\n",
       "      <th>extended</th>\n",
       "      <th>resolution</th>\n",
       "      <th>country</th>\n",
       "      <th>country_txt</th>\n",
       "      <th>region</th>\n",
       "      <th>...</th>\n",
       "      <th>addnotes</th>\n",
       "      <th>scite1</th>\n",
       "      <th>scite2</th>\n",
       "      <th>scite3</th>\n",
       "      <th>dbsource</th>\n",
       "      <th>INT_LOG</th>\n",
       "      <th>INT_IDEO</th>\n",
       "      <th>INT_MISC</th>\n",
       "      <th>INT_ANY</th>\n",
       "      <th>related</th>\n",
       "    </tr>\n",
       "  </thead>\n",
       "  <tbody>\n",
       "    <tr>\n",
       "      <th>0</th>\n",
       "      <td>197000000001</td>\n",
       "      <td>1970</td>\n",
       "      <td>7</td>\n",
       "      <td>2</td>\n",
       "      <td>NaN</td>\n",
       "      <td>0</td>\n",
       "      <td>NaN</td>\n",
       "      <td>58</td>\n",
       "      <td>Dominican Republic</td>\n",
       "      <td>2</td>\n",
       "      <td>...</td>\n",
       "      <td>NaN</td>\n",
       "      <td>NaN</td>\n",
       "      <td>NaN</td>\n",
       "      <td>NaN</td>\n",
       "      <td>PGIS</td>\n",
       "      <td>0</td>\n",
       "      <td>0</td>\n",
       "      <td>0</td>\n",
       "      <td>0</td>\n",
       "      <td>NaN</td>\n",
       "    </tr>\n",
       "    <tr>\n",
       "      <th>1</th>\n",
       "      <td>197000000002</td>\n",
       "      <td>1970</td>\n",
       "      <td>0</td>\n",
       "      <td>0</td>\n",
       "      <td>NaN</td>\n",
       "      <td>0</td>\n",
       "      <td>NaN</td>\n",
       "      <td>130</td>\n",
       "      <td>Mexico</td>\n",
       "      <td>1</td>\n",
       "      <td>...</td>\n",
       "      <td>NaN</td>\n",
       "      <td>NaN</td>\n",
       "      <td>NaN</td>\n",
       "      <td>NaN</td>\n",
       "      <td>PGIS</td>\n",
       "      <td>0</td>\n",
       "      <td>1</td>\n",
       "      <td>1</td>\n",
       "      <td>1</td>\n",
       "      <td>NaN</td>\n",
       "    </tr>\n",
       "    <tr>\n",
       "      <th>2</th>\n",
       "      <td>197001000001</td>\n",
       "      <td>1970</td>\n",
       "      <td>1</td>\n",
       "      <td>0</td>\n",
       "      <td>NaN</td>\n",
       "      <td>0</td>\n",
       "      <td>NaN</td>\n",
       "      <td>160</td>\n",
       "      <td>Philippines</td>\n",
       "      <td>5</td>\n",
       "      <td>...</td>\n",
       "      <td>NaN</td>\n",
       "      <td>NaN</td>\n",
       "      <td>NaN</td>\n",
       "      <td>NaN</td>\n",
       "      <td>PGIS</td>\n",
       "      <td>-9</td>\n",
       "      <td>-9</td>\n",
       "      <td>1</td>\n",
       "      <td>1</td>\n",
       "      <td>NaN</td>\n",
       "    </tr>\n",
       "    <tr>\n",
       "      <th>3</th>\n",
       "      <td>197001000002</td>\n",
       "      <td>1970</td>\n",
       "      <td>1</td>\n",
       "      <td>0</td>\n",
       "      <td>NaN</td>\n",
       "      <td>0</td>\n",
       "      <td>NaN</td>\n",
       "      <td>78</td>\n",
       "      <td>Greece</td>\n",
       "      <td>8</td>\n",
       "      <td>...</td>\n",
       "      <td>NaN</td>\n",
       "      <td>NaN</td>\n",
       "      <td>NaN</td>\n",
       "      <td>NaN</td>\n",
       "      <td>PGIS</td>\n",
       "      <td>-9</td>\n",
       "      <td>-9</td>\n",
       "      <td>1</td>\n",
       "      <td>1</td>\n",
       "      <td>NaN</td>\n",
       "    </tr>\n",
       "    <tr>\n",
       "      <th>4</th>\n",
       "      <td>197001000003</td>\n",
       "      <td>1970</td>\n",
       "      <td>1</td>\n",
       "      <td>0</td>\n",
       "      <td>NaN</td>\n",
       "      <td>0</td>\n",
       "      <td>NaN</td>\n",
       "      <td>101</td>\n",
       "      <td>Japan</td>\n",
       "      <td>4</td>\n",
       "      <td>...</td>\n",
       "      <td>NaN</td>\n",
       "      <td>NaN</td>\n",
       "      <td>NaN</td>\n",
       "      <td>NaN</td>\n",
       "      <td>PGIS</td>\n",
       "      <td>-9</td>\n",
       "      <td>-9</td>\n",
       "      <td>1</td>\n",
       "      <td>1</td>\n",
       "      <td>NaN</td>\n",
       "    </tr>\n",
       "    <tr>\n",
       "      <th>...</th>\n",
       "      <td>...</td>\n",
       "      <td>...</td>\n",
       "      <td>...</td>\n",
       "      <td>...</td>\n",
       "      <td>...</td>\n",
       "      <td>...</td>\n",
       "      <td>...</td>\n",
       "      <td>...</td>\n",
       "      <td>...</td>\n",
       "      <td>...</td>\n",
       "      <td>...</td>\n",
       "      <td>...</td>\n",
       "      <td>...</td>\n",
       "      <td>...</td>\n",
       "      <td>...</td>\n",
       "      <td>...</td>\n",
       "      <td>...</td>\n",
       "      <td>...</td>\n",
       "      <td>...</td>\n",
       "      <td>...</td>\n",
       "      <td>...</td>\n",
       "    </tr>\n",
       "    <tr>\n",
       "      <th>181686</th>\n",
       "      <td>201712310022</td>\n",
       "      <td>2017</td>\n",
       "      <td>12</td>\n",
       "      <td>31</td>\n",
       "      <td>NaN</td>\n",
       "      <td>0</td>\n",
       "      <td>NaN</td>\n",
       "      <td>182</td>\n",
       "      <td>Somalia</td>\n",
       "      <td>11</td>\n",
       "      <td>...</td>\n",
       "      <td>NaN</td>\n",
       "      <td>\"Somalia: Al-Shabaab Militants Attack Army Che...</td>\n",
       "      <td>\"Highlights: Somalia Daily Media Highlights 2 ...</td>\n",
       "      <td>\"Highlights: Somalia Daily Media Highlights 1 ...</td>\n",
       "      <td>START Primary Collection</td>\n",
       "      <td>0</td>\n",
       "      <td>0</td>\n",
       "      <td>0</td>\n",
       "      <td>0</td>\n",
       "      <td>NaN</td>\n",
       "    </tr>\n",
       "    <tr>\n",
       "      <th>181687</th>\n",
       "      <td>201712310029</td>\n",
       "      <td>2017</td>\n",
       "      <td>12</td>\n",
       "      <td>31</td>\n",
       "      <td>NaN</td>\n",
       "      <td>0</td>\n",
       "      <td>NaN</td>\n",
       "      <td>200</td>\n",
       "      <td>Syria</td>\n",
       "      <td>10</td>\n",
       "      <td>...</td>\n",
       "      <td>NaN</td>\n",
       "      <td>\"Putin's 'victory' in Syria has turned into a ...</td>\n",
       "      <td>\"Two Russian soldiers killed at Hmeymim base i...</td>\n",
       "      <td>\"Two Russian servicemen killed in Syria mortar...</td>\n",
       "      <td>START Primary Collection</td>\n",
       "      <td>-9</td>\n",
       "      <td>-9</td>\n",
       "      <td>1</td>\n",
       "      <td>1</td>\n",
       "      <td>NaN</td>\n",
       "    </tr>\n",
       "    <tr>\n",
       "      <th>181688</th>\n",
       "      <td>201712310030</td>\n",
       "      <td>2017</td>\n",
       "      <td>12</td>\n",
       "      <td>31</td>\n",
       "      <td>NaN</td>\n",
       "      <td>0</td>\n",
       "      <td>NaN</td>\n",
       "      <td>160</td>\n",
       "      <td>Philippines</td>\n",
       "      <td>5</td>\n",
       "      <td>...</td>\n",
       "      <td>NaN</td>\n",
       "      <td>\"Maguindanao clashes trap tribe members,\" Phil...</td>\n",
       "      <td>NaN</td>\n",
       "      <td>NaN</td>\n",
       "      <td>START Primary Collection</td>\n",
       "      <td>0</td>\n",
       "      <td>0</td>\n",
       "      <td>0</td>\n",
       "      <td>0</td>\n",
       "      <td>NaN</td>\n",
       "    </tr>\n",
       "    <tr>\n",
       "      <th>181689</th>\n",
       "      <td>201712310031</td>\n",
       "      <td>2017</td>\n",
       "      <td>12</td>\n",
       "      <td>31</td>\n",
       "      <td>NaN</td>\n",
       "      <td>0</td>\n",
       "      <td>NaN</td>\n",
       "      <td>92</td>\n",
       "      <td>India</td>\n",
       "      <td>6</td>\n",
       "      <td>...</td>\n",
       "      <td>NaN</td>\n",
       "      <td>\"Trader escapes grenade attack in Imphal,\" Bus...</td>\n",
       "      <td>NaN</td>\n",
       "      <td>NaN</td>\n",
       "      <td>START Primary Collection</td>\n",
       "      <td>-9</td>\n",
       "      <td>-9</td>\n",
       "      <td>0</td>\n",
       "      <td>-9</td>\n",
       "      <td>NaN</td>\n",
       "    </tr>\n",
       "    <tr>\n",
       "      <th>181690</th>\n",
       "      <td>201712310032</td>\n",
       "      <td>2017</td>\n",
       "      <td>12</td>\n",
       "      <td>31</td>\n",
       "      <td>NaN</td>\n",
       "      <td>0</td>\n",
       "      <td>NaN</td>\n",
       "      <td>160</td>\n",
       "      <td>Philippines</td>\n",
       "      <td>5</td>\n",
       "      <td>...</td>\n",
       "      <td>NaN</td>\n",
       "      <td>\"Security tightened in Cotabato following IED ...</td>\n",
       "      <td>\"Security tightened in Cotabato City,\" Manila ...</td>\n",
       "      <td>NaN</td>\n",
       "      <td>START Primary Collection</td>\n",
       "      <td>-9</td>\n",
       "      <td>-9</td>\n",
       "      <td>0</td>\n",
       "      <td>-9</td>\n",
       "      <td>NaN</td>\n",
       "    </tr>\n",
       "  </tbody>\n",
       "</table>\n",
       "<p>181691 rows × 135 columns</p>\n",
       "</div>"
      ],
      "text/plain": [
       "             eventid  iyear  imonth  iday approxdate  extended resolution  \\\n",
       "0       197000000001   1970       7     2        NaN         0        NaN   \n",
       "1       197000000002   1970       0     0        NaN         0        NaN   \n",
       "2       197001000001   1970       1     0        NaN         0        NaN   \n",
       "3       197001000002   1970       1     0        NaN         0        NaN   \n",
       "4       197001000003   1970       1     0        NaN         0        NaN   \n",
       "...              ...    ...     ...   ...        ...       ...        ...   \n",
       "181686  201712310022   2017      12    31        NaN         0        NaN   \n",
       "181687  201712310029   2017      12    31        NaN         0        NaN   \n",
       "181688  201712310030   2017      12    31        NaN         0        NaN   \n",
       "181689  201712310031   2017      12    31        NaN         0        NaN   \n",
       "181690  201712310032   2017      12    31        NaN         0        NaN   \n",
       "\n",
       "        country         country_txt  region  ... addnotes  \\\n",
       "0            58  Dominican Republic       2  ...      NaN   \n",
       "1           130              Mexico       1  ...      NaN   \n",
       "2           160         Philippines       5  ...      NaN   \n",
       "3            78              Greece       8  ...      NaN   \n",
       "4           101               Japan       4  ...      NaN   \n",
       "...         ...                 ...     ...  ...      ...   \n",
       "181686      182             Somalia      11  ...      NaN   \n",
       "181687      200               Syria      10  ...      NaN   \n",
       "181688      160         Philippines       5  ...      NaN   \n",
       "181689       92               India       6  ...      NaN   \n",
       "181690      160         Philippines       5  ...      NaN   \n",
       "\n",
       "                                                   scite1  \\\n",
       "0                                                     NaN   \n",
       "1                                                     NaN   \n",
       "2                                                     NaN   \n",
       "3                                                     NaN   \n",
       "4                                                     NaN   \n",
       "...                                                   ...   \n",
       "181686  \"Somalia: Al-Shabaab Militants Attack Army Che...   \n",
       "181687  \"Putin's 'victory' in Syria has turned into a ...   \n",
       "181688  \"Maguindanao clashes trap tribe members,\" Phil...   \n",
       "181689  \"Trader escapes grenade attack in Imphal,\" Bus...   \n",
       "181690  \"Security tightened in Cotabato following IED ...   \n",
       "\n",
       "                                                   scite2  \\\n",
       "0                                                     NaN   \n",
       "1                                                     NaN   \n",
       "2                                                     NaN   \n",
       "3                                                     NaN   \n",
       "4                                                     NaN   \n",
       "...                                                   ...   \n",
       "181686  \"Highlights: Somalia Daily Media Highlights 2 ...   \n",
       "181687  \"Two Russian soldiers killed at Hmeymim base i...   \n",
       "181688                                                NaN   \n",
       "181689                                                NaN   \n",
       "181690  \"Security tightened in Cotabato City,\" Manila ...   \n",
       "\n",
       "                                                   scite3  \\\n",
       "0                                                     NaN   \n",
       "1                                                     NaN   \n",
       "2                                                     NaN   \n",
       "3                                                     NaN   \n",
       "4                                                     NaN   \n",
       "...                                                   ...   \n",
       "181686  \"Highlights: Somalia Daily Media Highlights 1 ...   \n",
       "181687  \"Two Russian servicemen killed in Syria mortar...   \n",
       "181688                                                NaN   \n",
       "181689                                                NaN   \n",
       "181690                                                NaN   \n",
       "\n",
       "                        dbsource  INT_LOG  INT_IDEO INT_MISC INT_ANY  related  \n",
       "0                           PGIS        0         0        0       0      NaN  \n",
       "1                           PGIS        0         1        1       1      NaN  \n",
       "2                           PGIS       -9        -9        1       1      NaN  \n",
       "3                           PGIS       -9        -9        1       1      NaN  \n",
       "4                           PGIS       -9        -9        1       1      NaN  \n",
       "...                          ...      ...       ...      ...     ...      ...  \n",
       "181686  START Primary Collection        0         0        0       0      NaN  \n",
       "181687  START Primary Collection       -9        -9        1       1      NaN  \n",
       "181688  START Primary Collection        0         0        0       0      NaN  \n",
       "181689  START Primary Collection       -9        -9        0      -9      NaN  \n",
       "181690  START Primary Collection       -9        -9        0      -9      NaN  \n",
       "\n",
       "[181691 rows x 135 columns]"
      ]
     },
     "execution_count": 41,
     "metadata": {},
     "output_type": "execute_result"
    }
   ],
   "source": [
    "df"
   ]
  },
  {
   "cell_type": "markdown",
   "id": "b7789c12-32ab-4d1b-b553-25735ccd3959",
   "metadata": {},
   "source": [
    "<h1>Filtering Data</h1>"
   ]
  },
  {
   "cell_type": "code",
   "execution_count": null,
   "id": "de374725-84a4-49cc-afa8-607cb5574f92",
   "metadata": {},
   "outputs": [],
   "source": [
    "filter1 = df[df[\"region_txt\"] == \"Middle East & North Africa\"]"
   ]
  },
  {
   "cell_type": "code",
   "execution_count": null,
   "id": "8218778f-442f-46bf-9983-e95fd8a0f8cc",
   "metadata": {},
   "outputs": [],
   "source": [
    "filter2 = filter1[filter1[\"iyear\"] > 2000]"
   ]
  },
  {
   "cell_type": "code",
   "execution_count": null,
   "id": "a0a446ef-7442-4a3a-8cca-cc824463505c",
   "metadata": {},
   "outputs": [],
   "source": [
    "filter2[\"attacktype1_txt\"].value_counts()"
   ]
  },
  {
   "cell_type": "code",
   "execution_count": null,
   "id": "516f8a26-eecd-4ded-8933-9a60dcbc8fa5",
   "metadata": {},
   "outputs": [],
   "source": [
    "filter3 = filter2[filter2[\"attacktype1_txt\"] == \"Bombing/Explosion\"]"
   ]
  },
  {
   "cell_type": "markdown",
   "id": "77d32af2-0ce9-43e9-af80-78ca2a79ec89",
   "metadata": {},
   "source": [
    "<h1>Data Aggregation</h1>"
   ]
  },
  {
   "cell_type": "code",
   "execution_count": null,
   "id": "4b31c938-1509-43b7-bf70-8da614ea4fbd",
   "metadata": {},
   "outputs": [],
   "source": [
    "final_filter = filter3.groupby([\"latitude\", \"longitude\"]).size().reset_index(name = 'incident_count')"
   ]
  },
  {
   "cell_type": "code",
   "execution_count": null,
   "id": "c72e48d5-ce8f-4d8b-952e-3f425719822a",
   "metadata": {},
   "outputs": [],
   "source": [
    "final_filter"
   ]
  },
  {
   "cell_type": "markdown",
   "id": "be4754d9-a15e-4fbb-b118-70a913f8a70d",
   "metadata": {},
   "source": [
    "<h1>Use of FOLIUM for GeoSpatial</h1>"
   ]
  },
  {
   "cell_type": "code",
   "execution_count": null,
   "id": "f46b7380-c2f2-43f7-89cd-cd307d0bdbf9",
   "metadata": {},
   "outputs": [],
   "source": [
    "from folium.plugins import HeatMap"
   ]
  },
  {
   "cell_type": "markdown",
   "id": "6d3217fe-e980-4b16-8ce5-b8aeca902b78",
   "metadata": {},
   "source": [
    "<h3>Converting Pandas DataFrame into Python List</h3>"
   ]
  },
  {
   "cell_type": "code",
   "execution_count": null,
   "id": "8916f4db-46f7-48ec-bf25-09331f48ab41",
   "metadata": {},
   "outputs": [],
   "source": [
    "final_filter[\"normalize_data\"] = final_filter[\"incident_count\"] - final_filter[\"incident_count\"].min() / final_filter[\"incident_count\"].max() - final_filter[\"incident_count\"]\n",
    "\n",
    "heatmap_data = final_filter[['latitude', 'longitude', 'normalize_data']].values.tolist()"
   ]
  },
  {
   "cell_type": "code",
   "execution_count": null,
   "id": "64188283-a259-4e0e-a736-2b65944260ee",
   "metadata": {},
   "outputs": [],
   "source": [
    "final_filter"
   ]
  },
  {
   "cell_type": "markdown",
   "id": "42393fbe-4e7b-4192-8d88-d1fabad0c1b8",
   "metadata": {},
   "source": [
    "<h3>Creating a Base Map</h3>"
   ]
  },
  {
   "cell_type": "code",
   "execution_count": null,
   "id": "87332c0d-b063-4327-80da-9b81325cc1b6",
   "metadata": {},
   "outputs": [],
   "source": [
    "my_map = folium.Map(location= [30, 40], zoom_start = 4)"
   ]
  },
  {
   "cell_type": "markdown",
   "id": "ff72f828-f849-4879-8e78-43e2d3e96e34",
   "metadata": {},
   "source": [
    "<h3>Add HeatMap Layer</h3>"
   ]
  },
  {
   "cell_type": "code",
   "execution_count": null,
   "id": "4fd4ba96-c0d1-4197-8689-1a3a1d7e5272",
   "metadata": {},
   "outputs": [],
   "source": [
    "HeatMap(heatmap_data).add_to(my_map)"
   ]
  },
  {
   "cell_type": "code",
   "execution_count": null,
   "id": "c0a7d80e-762d-49ac-9dd0-e5eb099be706",
   "metadata": {},
   "outputs": [],
   "source": [
    "my_map.save('terrorism_bombing.html')"
   ]
  },
  {
   "cell_type": "markdown",
   "id": "f3d64c58-b1a2-45da-bf5f-e4cf85569488",
   "metadata": {},
   "source": [
    "<h1>INSIGHT no. 1</h1>\n",
    "<h3>Southeast Asia Assassination (2010-2017)</h3>"
   ]
  },
  {
   "cell_type": "code",
   "execution_count": null,
   "id": "4efef4af-64ac-4534-9f9e-65f267955dd6",
   "metadata": {},
   "outputs": [],
   "source": [
    "filter_sa = df[df[\"region_txt\"] == \"Southeast Asia\"]\n",
    "filter_sa2 = filter_sa[filter_sa[\"iyear\"] > 2010]\n",
    "filter_sa3 = filter_sa2[filter_sa2[\"attacktype1_txt\"] == \"Assassination\"]\n",
    "final_filter_sa = filter_sa3.groupby([\"latitude\", \"longitude\"]).size().reset_index(name = 'incident_count')"
   ]
  },
  {
   "cell_type": "code",
   "execution_count": null,
   "id": "64f96344-658f-4fa9-9073-be7edcbfdd73",
   "metadata": {},
   "outputs": [],
   "source": [
    "heatmap_data2 = final_filter_sa[['latitude', 'longitude', 'incident_count']].values.tolist()"
   ]
  },
  {
   "cell_type": "code",
   "execution_count": null,
   "id": "536d32a7-7d33-4726-a99b-7a7d45a26108",
   "metadata": {},
   "outputs": [],
   "source": [
    "my_map2 = folium.Map(location= [30, 40], zoom_start = 4)"
   ]
  },
  {
   "cell_type": "code",
   "execution_count": null,
   "id": "5669da44-41fe-4de3-9144-8a3528858bf4",
   "metadata": {},
   "outputs": [],
   "source": [
    "HeatMap(heatmap_data2).add_to(my_map2)"
   ]
  },
  {
   "cell_type": "code",
   "execution_count": null,
   "id": "df0bd241-50d9-4d96-bf32-1fccdc8f6746",
   "metadata": {},
   "outputs": [],
   "source": [
    "my_map2.save('terrorism_bombing.html')"
   ]
  },
  {
   "cell_type": "markdown",
   "id": "407134d0-d266-4a41-89e9-86ea8f1416cc",
   "metadata": {},
   "source": [
    "<h1>INSIGHT no. 2</h1>\n",
    "<h3>North America Facility/Infastracture Attack in 1970</h3>"
   ]
  },
  {
   "cell_type": "code",
   "execution_count": 59,
   "id": "be626401-a07a-4e8e-bf83-74d4dfda1345",
   "metadata": {},
   "outputs": [],
   "source": [
    "filter_na = df[df[\"region_txt\"] == \"North America\"]\n",
    "filter_na2 = filter_na[filter_na[\"iyear\"] == 1970]\n",
    "filter_na3 = filter_na2[filter_na2[\"attacktype1_txt\"] == \"Facility/Infrastructure Attack\"]\n",
    "final_filter_na = filter_na3.groupby([\"latitude\", \"longitude\"]).size().reset_index(name = 'incident_count')"
   ]
  },
  {
   "cell_type": "code",
   "execution_count": 54,
   "id": "b9bc9be5-801a-4b85-9a01-8425d46b03ef",
   "metadata": {},
   "outputs": [],
   "source": [
    "heatmap_data3 = final_filter_na[['latitude', 'longitude', 'incident_count']].values.tolist()"
   ]
  },
  {
   "cell_type": "code",
   "execution_count": 55,
   "id": "629a3b5d-0ec3-41b0-a513-f06a6f6e9f23",
   "metadata": {},
   "outputs": [],
   "source": [
    "my_map3 = folium.Map(location= [30, 40], zoom_start = 4)"
   ]
  },
  {
   "cell_type": "code",
   "execution_count": null,
   "id": "4129d820-edf2-49cc-bb38-a0df4631eb9a",
   "metadata": {},
   "outputs": [],
   "source": [
    "HeatMap(heatmap_data3).add_to(my_map3)\n",
    "my_map3.save('terrorism_fac_attack.html')"
   ]
  },
  {
   "cell_type": "markdown",
   "id": "e3e4d677-e5a1-4c04-95e2-790847a4eba3",
   "metadata": {},
   "source": [
    "<h1>INSIGHT no. 3</h1>\n",
    "<h3>Bombing/Explosion in Philippines</h3>"
   ]
  },
  {
   "cell_type": "code",
   "execution_count": 64,
   "id": "db5974eb-ee15-4f94-a38b-786588365c68",
   "metadata": {},
   "outputs": [],
   "source": [
    "filter_ph = df[df[\"country_txt\"] == \"Philippines\"]\n",
    "filter_ph2 = filter_ph[filter_ph[\"attacktype1_txt\"] == \"Bombing/Explosion\"]\n",
    "final_filter_ph = filter_ph2.groupby([\"latitude\", \"longitude\"]).size().reset_index(name = 'incident_count')"
   ]
  },
  {
   "cell_type": "code",
   "execution_count": 61,
   "id": "32a8288a-5f1b-4ab9-b787-f0c709e55aa8",
   "metadata": {},
   "outputs": [],
   "source": [
    "heatmap_data4 = final_filter_ph[['latitude', 'longitude', 'incident_count']].values.tolist()"
   ]
  },
  {
   "cell_type": "code",
   "execution_count": 62,
   "id": "8584bb16-6ac9-483f-982c-eb073311c8ad",
   "metadata": {},
   "outputs": [],
   "source": [
    "my_map4 = folium.Map(location= [30, 40], zoom_start = 4)"
   ]
  },
  {
   "cell_type": "code",
   "execution_count": 63,
   "id": "75924733-60b3-48e5-a846-46bc639d3234",
   "metadata": {},
   "outputs": [],
   "source": [
    "HeatMap(heatmap_data4).add_to(my_map4)\n",
    "my_map4.save('Bombing_ph.html')"
   ]
  },
  {
   "cell_type": "markdown",
   "id": "bb16f556-106e-4373-b908-a9f9138a3cc5",
   "metadata": {},
   "source": [
    "<h1>INSIGHT no. 4</h1>\n",
    "<h3>Government (Diplomatic) Attack in United States during 2015</h3>"
   ]
  },
  {
   "cell_type": "code",
   "execution_count": 65,
   "id": "3a870d75-261d-4ebf-9349-67b66b833826",
   "metadata": {},
   "outputs": [],
   "source": [
    "filter_us = df[df[\"country_txt\"] == \"United States\"]\n",
    "filter_us2 = filter_us[filter_us[\"iyear\"] == 2015]\n",
    "filter_us3 = filter_us2[filter_us2[\"targtype1_txt\"] == \"Government (Diplomatic)\"]\n",
    "final_filter_us = filter_us3.groupby([\"latitude\", \"longitude\"]).size().reset_index(name = 'incident_count')"
   ]
  },
  {
   "cell_type": "code",
   "execution_count": 66,
   "id": "c98d940a-4157-4299-a3a1-c6e837094990",
   "metadata": {},
   "outputs": [],
   "source": [
    "heatmap_data5 = final_filter_us[['latitude', 'longitude', 'incident_count']].values.tolist()"
   ]
  },
  {
   "cell_type": "code",
   "execution_count": 67,
   "id": "a2e141ab-c4e5-42c5-83f9-d5dc56a07735",
   "metadata": {},
   "outputs": [],
   "source": [
    "my_map5 = folium.Map(location= [30, 40], zoom_start = 4)"
   ]
  },
  {
   "cell_type": "code",
   "execution_count": 68,
   "id": "34e20afe-6de6-4146-9689-421a365a65b2",
   "metadata": {},
   "outputs": [],
   "source": [
    "HeatMap(heatmap_data5).add_to(my_map5)\n",
    "my_map5.save('government_us.html')"
   ]
  },
  {
   "cell_type": "markdown",
   "id": "361ef0fc-08b3-4fb5-857d-e40e39ab8f04",
   "metadata": {},
   "source": [
    "<h1>INSIGHT no. 5</h1>\n",
    "<h3>Educational Institution affected by attacks in Japan</h3>"
   ]
  },
  {
   "cell_type": "code",
   "execution_count": 69,
   "id": "ac727dad-56d2-40cb-ba2d-eb4a5fca784c",
   "metadata": {},
   "outputs": [],
   "source": [
    "filter_jp = df[df[\"country_txt\"] == \"Japan\"]\n",
    "filter_jp2 = filter_jp[filter_jp[\"targtype1_txt\"] == \"Educational Institution\"]\n",
    "final_filter_jp = filter_jp2.groupby([\"latitude\", \"longitude\"]).size().reset_index(name = 'incident_count')"
   ]
  },
  {
   "cell_type": "code",
   "execution_count": 70,
   "id": "e6de649a-6f49-4db5-a389-3113df3b22af",
   "metadata": {},
   "outputs": [],
   "source": [
    "heatmap_data6 = final_filter_jp[['latitude', 'longitude', 'incident_count']].values.tolist()"
   ]
  },
  {
   "cell_type": "code",
   "execution_count": 71,
   "id": "2e257107-8180-490e-b924-3f8eaef5cbe3",
   "metadata": {},
   "outputs": [],
   "source": [
    "my_map6 = folium.Map(location= [30, 40], zoom_start = 4)"
   ]
  },
  {
   "cell_type": "code",
   "execution_count": 72,
   "id": "9bb79b52-a3b6-4d6c-ad69-445312a415b7",
   "metadata": {},
   "outputs": [],
   "source": [
    "HeatMap(heatmap_data6).add_to(my_map6)\n",
    "my_map6.save('education_jp.html')"
   ]
  },
  {
   "cell_type": "markdown",
   "id": "99968bbf-2e9c-4e31-b574-6470861ece02",
   "metadata": {},
   "source": [
    "<h1>Nationality Analysis</h1>"
   ]
  },
  {
   "cell_type": "code",
   "execution_count": null,
   "id": "cede8665-91ed-44a7-82d0-38b7fee0db31",
   "metadata": {},
   "outputs": [],
   "source": [
    "filter_nat = df[df[\"country_txt\"] == \"Philippines\"]\n",
    "final_filter_nat = filter_nat.groupby([\"latitude\", \"longitude\"]).size().reset_index(name = 'incident_count')"
   ]
  },
  {
   "cell_type": "code",
   "execution_count": null,
   "id": "88304cbe-451c-4cdb-adf3-1a1e7f56c350",
   "metadata": {},
   "outputs": [],
   "source": [
    "heatmap_nat = final_filter_nat[['latitude', 'longitude', 'incident_count']].values.tolist()"
   ]
  },
  {
   "cell_type": "code",
   "execution_count": null,
   "id": "4f0a470a-e635-44c1-9e87-64b9e67d74d9",
   "metadata": {},
   "outputs": [],
   "source": [
    "nat_map = folium.Map(location = [30, 40], zoom_start = 4) "
   ]
  },
  {
   "cell_type": "code",
   "execution_count": null,
   "id": "07ee44d6-5d27-45dc-9461-66337134a11f",
   "metadata": {},
   "outputs": [],
   "source": [
    "HeatMap(heatmap_nat).add_to(nat_map)\n",
    "nat_map.save('philippines_attack.html')"
   ]
  },
  {
   "cell_type": "markdown",
   "id": "5cf4aca0-0cb5-4c93-b1db-d7caa0c071a5",
   "metadata": {},
   "source": [
    "<h1>Regional Analysis</h1>"
   ]
  },
  {
   "cell_type": "code",
   "execution_count": null,
   "id": "756b4b34-a1fc-48dd-b845-c2050d5670b1",
   "metadata": {},
   "outputs": [],
   "source": [
    "filter_reg = df[df[\"region_txt\"] == \"Western Europe\"]\n",
    "filter_reg1 = filter_reg[filter_reg[\"iyear\"] >= 2000]\n",
    "final_filter_reg = filter_reg1.groupby([\"latitude\", \"longitude\"]).size().reset_index(name = 'incident_count')"
   ]
  },
  {
   "cell_type": "code",
   "execution_count": null,
   "id": "911c5654-407c-475c-9a77-1f53ecd506cd",
   "metadata": {},
   "outputs": [],
   "source": [
    "heatmap_reg = final_filter_reg[['latitude', 'longitude', 'incident_count']].values.tolist()"
   ]
  },
  {
   "cell_type": "code",
   "execution_count": null,
   "id": "b778db33-226e-481e-9914-fc170654a683",
   "metadata": {},
   "outputs": [],
   "source": [
    "reg_map = folium.Map(location = [30, 40], zoom_start = 4)"
   ]
  },
  {
   "cell_type": "code",
   "execution_count": null,
   "id": "797bd3a6-00e7-4312-b323-080061ee6e8e",
   "metadata": {},
   "outputs": [],
   "source": [
    "HeatMap(heatmap_reg).add_to(reg_map)\n",
    "reg_map.save('west_europe_attack.html')"
   ]
  },
  {
   "cell_type": "markdown",
   "id": "582ca7ce-7f97-4c8b-a015-0a3d8a12591d",
   "metadata": {},
   "source": [
    "<h1>Target Analysis</h1>"
   ]
  },
  {
   "cell_type": "code",
   "execution_count": null,
   "id": "89740df4-5cc1-4d39-94a3-cd7c7e97af91",
   "metadata": {},
   "outputs": [],
   "source": [
    "filter_tar = df[df[\"targsubtype1_txt\"] == \"School/University/Educational Building\"]\n",
    "filter_tar1 = filter_tar[filter_tar[\"iyear\"] >= 2000]\n",
    "final_filter_tar = filter_tar1.groupby([\"latitude\", \"longitude\"]).size().reset_index(name = 'incident_count')"
   ]
  },
  {
   "cell_type": "code",
   "execution_count": 37,
   "id": "46db7295-196f-4492-bebc-f75a349a4568",
   "metadata": {},
   "outputs": [],
   "source": [
    "heatmap_tar = final_filter_tar[['latitude', 'longitude', 'incident_count']].values.tolist()"
   ]
  },
  {
   "cell_type": "code",
   "execution_count": 38,
   "id": "43289be5-81ce-41a4-964d-e4a7f729c95d",
   "metadata": {},
   "outputs": [],
   "source": [
    "tar_map = folium.Map(location = [30, 40], zoom_start = 4)"
   ]
  },
  {
   "cell_type": "code",
   "execution_count": 47,
   "id": "65bee5ce-734f-46e5-86b5-548dc9c94824",
   "metadata": {},
   "outputs": [],
   "source": [
    "HeatMap(heatmap_tar).add_to(tar_map)\n",
    "tar_map.save('target.html')"
   ]
  },
  {
   "cell_type": "markdown",
   "id": "3d71602f-cf11-462b-af8d-ffeeb5c7367d",
   "metadata": {},
   "source": [
    "<h1>Casualty Analysis</h1>"
   ]
  },
  {
   "cell_type": "code",
   "execution_count": 42,
   "id": "161db532-0ac4-4235-9ee2-21b61b78ddb0",
   "metadata": {},
   "outputs": [],
   "source": [
    "filter_cas = df[df[\"attacktype1_txt\"] == \"Bombing/Explosion\"]\n",
    "filter_cas1 = filter_cas[filter_cas[\"iyear\"] >= 2000]\n",
    "final_filter_cas = filter_cas1.groupby([\"latitude\", \"longitude\"]).size().reset_index(name = 'incident_count')"
   ]
  },
  {
   "cell_type": "code",
   "execution_count": 44,
   "id": "87217cdb-bbd5-4348-a324-1467e54ec18f",
   "metadata": {},
   "outputs": [],
   "source": [
    "final_filter_cas['normalize_data'] = final_filter_cas['incident_count'] - final_filter_cas['incident_count'].min() / \\\n",
    "                                            final_filter_cas['incident_count'].max() - final_filter_cas['incident_count'].min()"
   ]
  },
  {
   "cell_type": "code",
   "execution_count": 45,
   "id": "457d94e8-95ff-4623-9de2-23e6f8e98776",
   "metadata": {},
   "outputs": [],
   "source": [
    "heatmap_cas = final_filter_cas[['latitude', 'longitude', 'normalize_data']].values.tolist()"
   ]
  },
  {
   "cell_type": "code",
   "execution_count": 46,
   "id": "93df7804-4ea3-4e3a-9e0b-c9334cd182df",
   "metadata": {},
   "outputs": [],
   "source": [
    "cas_map = folium.Map(location = [30, 40], zoom_start = 4)"
   ]
  },
  {
   "cell_type": "code",
   "execution_count": 48,
   "id": "e3543063-6a57-4a6f-ad9d-8f62021b861d",
   "metadata": {},
   "outputs": [],
   "source": [
    "HeatMap(heatmap_cas).add_to(cas_map)\n",
    "cas_map.save('casualty.html')"
   ]
  },
  {
   "cell_type": "markdown",
   "id": "7849e7be-1637-421d-8f7c-f857b4c8733f",
   "metadata": {},
   "source": [
    "<h1>Attack Type Analysis</h1>"
   ]
  },
  {
   "cell_type": "code",
   "execution_count": 49,
   "id": "20ccec9b-2a25-4f05-9d89-0c07626e4900",
   "metadata": {},
   "outputs": [],
   "source": [
    "filter_attack = df[df[\"attacktype1_txt\"] == \"Armed Assault\"]\n",
    "filter_attack1 = filter_attack[filter_attack[\"iyear\"] >= 2000]\n",
    "final_filter_attack = filter_attack1.groupby([\"latitude\", \"longitude\"]).size().reset_index(name = 'incident_count')"
   ]
  },
  {
   "cell_type": "code",
   "execution_count": 50,
   "id": "b89e4a79-6843-40ef-bfff-082fc3972cc0",
   "metadata": {},
   "outputs": [],
   "source": [
    "heatmap_attack = final_filter_attack[['latitude', 'longitude', 'incident_count']].values.tolist()"
   ]
  },
  {
   "cell_type": "code",
   "execution_count": 51,
   "id": "62fbfae5-bde4-48f8-b1e6-bbc7ebd722c0",
   "metadata": {},
   "outputs": [],
   "source": [
    "attack_map = folium.Map(location = [30, 40], zoom_start = 4)"
   ]
  },
  {
   "cell_type": "code",
   "execution_count": 52,
   "id": "ffcd5c32-8e13-41af-b533-ca447effb8f9",
   "metadata": {},
   "outputs": [],
   "source": [
    "HeatMap(heatmap_attack).add_to(attack_map)\n",
    "attack_map.save('attack.html')"
   ]
  }
 ],
 "metadata": {
  "kernelspec": {
   "display_name": "Python 3 (ipykernel)",
   "language": "python",
   "name": "python3"
  },
  "language_info": {
   "codemirror_mode": {
    "name": "ipython",
    "version": 3
   },
   "file_extension": ".py",
   "mimetype": "text/x-python",
   "name": "python",
   "nbconvert_exporter": "python",
   "pygments_lexer": "ipython3",
   "version": "3.13.3"
  }
 },
 "nbformat": 4,
 "nbformat_minor": 5
}
